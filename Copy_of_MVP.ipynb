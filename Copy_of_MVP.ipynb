{
  "nbformat": 4,
  "nbformat_minor": 0,
  "metadata": {
    "colab": {
      "name": "Copy of MVP.ipynb",
      "provenance": [],
      "collapsed_sections": []
    },
    "kernelspec": {
      "name": "python3",
      "display_name": "Python 3"
    }
  },
  "cells": [
    {
      "cell_type": "code",
      "metadata": {
        "id": "ykU0ZBVdQ73W"
      },
      "source": [
        "import numpy as np\r\n",
        "import pandas as pd\r\n",
        "import matplotlib.pyplot as plt\r\n",
        "import requests\r\n",
        "from bs4 import BeautifulSoup\r\n",
        "import time\r\n",
        "import re"
      ],
      "execution_count": null,
      "outputs": []
    },
    {
      "cell_type": "markdown",
      "metadata": {
        "id": "I1xI7WPenlKR"
      },
      "source": [
        ""
      ]
    },
    {
      "cell_type": "markdown",
      "metadata": {
        "id": "hTpcjxT7R1E3"
      },
      "source": [
        "**LOAD DATASET**"
      ]
    },
    {
      "cell_type": "code",
      "metadata": {
        "id": "tc4ePm3bR0Fa",
        "colab": {
          "base_uri": "https://localhost:8080/"
        },
        "outputId": "e7c65931-0309-4558-ebce-29604f51f3d5"
      },
      "source": [
        "data_frame = pd.read_csv('/player_regular_season.csv')\r\n",
        "\r\n",
        "print(\"dataset for player_regular_season\\n\",data_frame)\r\n",
        "data_frame2 = pd.read_csv('/player_regular_season_career.csv')\r\n",
        "print(\"\\ndataset for player_regular_season_career\\n\",data_frame2)"
      ],
      "execution_count": null,
      "outputs": [
        {
          "output_type": "stream",
          "text": [
            "dataset for player_regular_season\n",
            "            ilkid  year firstname   lastname team  ...  fgm  fta  ftm  tpa  tpm\n",
            "0      ABRAMJO01  1946      John  Abramovic  PIT  ...  202  178  123    0    0\n",
            "1      AUBUCCH01  1946      Chet   Aubuchon  DE1  ...   23   35   19    0    0\n",
            "2      BAKERNO01  1946      Norm      Baker  CH1  ...    0    0    0    0    0\n",
            "3      BALTIHE01  1946  Herschel  Baltimore  ST1  ...   53   69   32    0    0\n",
            "4       BARRJO01  1946      John       Barr  ST1  ...  124   79   47    0    0\n",
            "...          ...   ...       ...        ...  ...  ...  ...  ...  ...  ...  ...\n",
            "19107  WILLISC01  2004     Scott   Williams  CLE  ...   12   11    9    1    0\n",
            "19108  WOODSLO01  2004     Loren      Woods  TOR  ...   71   59   34    1    0\n",
            "19109  WOODSQY01  2004    Qyntel      Woods  MIA  ...    5    0    0    0    0\n",
            "19110  WRIGHDO01  2004    Dorell     Wright  MIA  ...    3    1    1    4    0\n",
            "19111  WRIGHLO02  2004  Lorenzen     Wright  MEM  ...  320  198  131    3    0\n",
            "\n",
            "[19112 rows x 23 columns]\n",
            "\n",
            "dataset for player_regular_season_career\n",
            "           ilkid firstname      lastname leag  ...   fta   ftm   tpa  tpm\n",
            "0     ABDELAL01      Alaa     Abdelnaby    N  ...   321   225     3    0\n",
            "1     ABDULKA01    Kareem  Abdul-jabbar    N  ...  9304  6712    18    1\n",
            "2     ABDULMA01     Mahmo    Abdul-rauf    N  ...  1161  1051  1339  474\n",
            "3     ABDULTA01     Tariq   Abdul-wahad    N  ...   529   372    76   18\n",
            "4     ABDURSH01   Shareef   Abdur-rahim    N  ...  4427  3614   477  146\n",
            "...         ...       ...           ...  ...  ...   ...   ...   ...  ...\n",
            "3754  ZEVENPH01      Phil   Zevenbergen    N  ...     2     0     0    0\n",
            "3755  ZIDEKGE01    George         Zidek    N  ...   166   130     4    1\n",
            "3756   ZOETJI01       Jim          Zoet    N  ...     0     0     0    0\n",
            "3757   ZOPFBI01      Bill          Zopf    N  ...    36    20     0    0\n",
            "3758  ZUNICMA01      Matt         Zunic    N  ...   109    77     0    0\n",
            "\n",
            "[3759 rows x 21 columns]\n"
          ],
          "name": "stdout"
        }
      ]
    },
    {
      "cell_type": "markdown",
      "metadata": {
        "id": "JtKPvBhPqVsc"
      },
      "source": [
        "**FINDING BEST FEATURES**"
      ]
    },
    {
      "cell_type": "code",
      "metadata": {
        "id": "z5lZ99ssqbgd"
      },
      "source": [
        "from sklearn.feature_selection import SelectKBest, mutual_info_regression, f_regression\r\n",
        "from sklearn.ensemble import RandomForestRegressor\r\n"
      ],
      "execution_count": null,
      "outputs": []
    },
    {
      "cell_type": "code",
      "metadata": {
        "id": "TNiguVOrrlXt"
      },
      "source": [
        "orig_features = ['gp','minutes','pts','oreb','dreb','reb','asts','stl','blk','turnover','pf','fga','fgm','fta','tpa','tpm']\r\n",
        "data = data_frame2[orig_features]\r\n",
        "\r\n"
      ],
      "execution_count": null,
      "outputs": []
    },
    {
      "cell_type": "code",
      "metadata": {
        "id": "uXRHyWZZ1ANg"
      },
      "source": [
        "from sklearn.decomposition import PCA\r\n",
        "from sklearn.preprocessing import StandardScaler"
      ],
      "execution_count": null,
      "outputs": []
    },
    {
      "cell_type": "markdown",
      "metadata": {
        "id": "9s6l-Mt_r5zg"
      },
      "source": [
        "**CORRELATION=PEARSON**"
      ]
    },
    {
      "cell_type": "code",
      "metadata": {
        "colab": {
          "base_uri": "https://localhost:8080/"
        },
        "id": "oWXCaoYbpyr8",
        "outputId": "4f0f141a-cde6-45c9-c13c-cd006b157086"
      },
      "source": [
        "#correlation of attributes\r\n",
        "correlation_matrix = data_frame.corr(method=\"pearson\")\r\n",
        "correlation_matrix[\"tpa\"].sort_values()"
      ],
      "execution_count": null,
      "outputs": [
        {
          "output_type": "execute_result",
          "data": {
            "text/plain": [
              "blk         0.032797\n",
              "reb         0.054542\n",
              "oreb        0.089066\n",
              "pf          0.146810\n",
              "fta         0.191575\n",
              "dreb        0.206747\n",
              "ftm         0.223989\n",
              "gp          0.266815\n",
              "fgm         0.300016\n",
              "year        0.330427\n",
              "fga         0.330877\n",
              "pts         0.335818\n",
              "minutes     0.358111\n",
              "asts        0.385284\n",
              "turnover    0.421903\n",
              "stl         0.440646\n",
              "tpm         0.990170\n",
              "tpa         1.000000\n",
              "Name: tpa, dtype: float64"
            ]
          },
          "metadata": {
            "tags": []
          },
          "execution_count": 171
        }
      ]
    },
    {
      "cell_type": "markdown",
      "metadata": {
        "id": "3iuItejVr5Dv"
      },
      "source": [
        "**CORRELATION=KENDALL**"
      ]
    },
    {
      "cell_type": "code",
      "metadata": {
        "colab": {
          "base_uri": "https://localhost:8080/"
        },
        "id": "8aEAyaDGrpmR",
        "outputId": "b8051c8d-097f-4de3-865d-34a7949d985b"
      },
      "source": [
        "#correlation of attributes\r\n",
        "correlation_matrix = data_frame.corr(method=\"kendall\")\r\n",
        "correlation_matrix[\"tpa\"].sort_values()"
      ],
      "execution_count": null,
      "outputs": [
        {
          "output_type": "execute_result",
          "data": {
            "text/plain": [
              "pf          0.105821\n",
              "reb         0.119711\n",
              "fta         0.138262\n",
              "ftm         0.160443\n",
              "gp          0.195583\n",
              "fga         0.208083\n",
              "fgm         0.214261\n",
              "pts         0.222041\n",
              "minutes     0.258956\n",
              "asts        0.277170\n",
              "oreb        0.287656\n",
              "blk         0.287689\n",
              "dreb        0.355543\n",
              "year        0.421682\n",
              "stl         0.460707\n",
              "turnover    0.546221\n",
              "tpm         0.853288\n",
              "tpa         1.000000\n",
              "Name: tpa, dtype: float64"
            ]
          },
          "metadata": {
            "tags": []
          },
          "execution_count": 172
        }
      ]
    },
    {
      "cell_type": "markdown",
      "metadata": {
        "id": "a-ctOVBBr4QV"
      },
      "source": [
        "**CORRELATION=SPEARMAN**"
      ]
    },
    {
      "cell_type": "code",
      "metadata": {
        "colab": {
          "base_uri": "https://localhost:8080/"
        },
        "id": "MA5eEBI2rosx",
        "outputId": "1de82c70-bd25-472e-ba77-aa97331bf022"
      },
      "source": [
        "#correlation of attributes\r\n",
        "correlation_matrix = data_frame.corr(method=\"spearman\")\r\n",
        "correlation_matrix[\"tpa\"].sort_values()"
      ],
      "execution_count": null,
      "outputs": [
        {
          "output_type": "execute_result",
          "data": {
            "text/plain": [
              "pf          0.141437\n",
              "reb         0.157409\n",
              "fta         0.187125\n",
              "ftm         0.216974\n",
              "gp          0.266326\n",
              "fga         0.277249\n",
              "fgm         0.289180\n",
              "pts         0.298638\n",
              "minutes     0.342218\n",
              "asts        0.369583\n",
              "blk         0.384940\n",
              "oreb        0.385713\n",
              "dreb        0.465885\n",
              "year        0.560159\n",
              "stl         0.583992\n",
              "turnover    0.697507\n",
              "tpm         0.907927\n",
              "tpa         1.000000\n",
              "Name: tpa, dtype: float64"
            ]
          },
          "metadata": {
            "tags": []
          },
          "execution_count": 173
        }
      ]
    },
    {
      "cell_type": "markdown",
      "metadata": {
        "id": "q3t7YXeisUtS"
      },
      "source": [
        "**PLOTTING**"
      ]
    },
    {
      "cell_type": "code",
      "metadata": {
        "id": "WfyVD8xq1D1v"
      },
      "source": [
        "scaler = StandardScaler()\r\n",
        "transformed = scaler.fit_transform(data)\r\n",
        "pca = PCA(n_components=1)\r\n",
        "decomposed = pca.fit_transform(data)"
      ],
      "execution_count": null,
      "outputs": []
    },
    {
      "cell_type": "code",
      "metadata": {
        "id": "PvfT55iR1NlP",
        "colab": {
          "base_uri": "https://localhost:8080/",
          "height": 826
        },
        "outputId": "f242bdf0-fd8c-4dd6-9898-08be774dddf0"
      },
      "source": [
        "plt.figure(figsize=(14, 14))\r\n",
        "plt.scatter(decomposed, data_frame2.tpa)"
      ],
      "execution_count": null,
      "outputs": [
        {
          "output_type": "execute_result",
          "data": {
            "text/plain": [
              "<matplotlib.collections.PathCollection at 0x7fb4959f0358>"
            ]
          },
          "metadata": {
            "tags": []
          },
          "execution_count": 164
        },
        {
          "output_type": "display_data",
          "data": {
            "image/png": "[encoded data removed]",
            "text/plain": [
              "<Figure size 1008x1008 with 1 Axes>"
            ]
          },
          "metadata": {
            "tags": [],
            "needs_background": "light"
          }
        }
      ]
    },
    {
      "cell_type": "code",
      "metadata": {
        "id": "nYbfgVl_3jQ8",
        "colab": {
          "base_uri": "https://localhost:8080/",
          "height": 752
        },
        "outputId": "00645d46-1984-4b9a-e109-1e76d1dff412"
      },
      "source": [
        "plt.figure(figsize=(12, 12))\r\n",
        "\r\n",
        "plt.hist(data_frame.tpa, bins=20, edgecolor='#F5F5F5')\r\n",
        "plt.title(\"Number of occurrences of total points added\", size=16)\r\n",
        "plt.ylabel(\"Number of occurrences\", size=12)\r\n",
        "plt.xlabel(\"total points added\", size=12)"
      ],
      "execution_count": null,
      "outputs": [
        {
          "output_type": "execute_result",
          "data": {
            "text/plain": [
              "Text(0.5, 0, 'total points added')"
            ]
          },
          "metadata": {
            "tags": []
          },
          "execution_count": 165
        },
        {
          "output_type": "display_data",
          "data": {
            "image/png": "[encoded data removed]",
            "text/plain": [
              "<Figure size 864x864 with 1 Axes>"
            ]
          },
          "metadata": {
            "tags": [],
            "needs_background": "light"
          }
        }
      ]
    },
    {
      "cell_type": "code",
      "metadata": {
        "id": "SrI6YrU5WJnP"
      },
      "source": [
        "\r\n",
        "from sklearn.preprocessing import PolynomialFeatures, normalize, StandardScaler, MinMaxScaler\r\n",
        "from sklearn.linear_model import SGDRegressor, LinearRegression, Ridge, Lasso, ElasticNet\r\n",
        "from sklearn.neural_network import MLPRegressor\r\n",
        "from sklearn.svm import SVR\r\n",
        "from sklearn.ensemble import RandomForestRegressor, GradientBoostingRegressor, BaggingRegressor, AdaBoostRegressor\r\n",
        "from sklearn.utils import shuffle"
      ],
      "execution_count": null,
      "outputs": []
    },
    {
      "cell_type": "markdown",
      "metadata": {
        "id": "1_MYiXYssbE5"
      },
      "source": [
        "**FIND MVP PER YEAR**"
      ]
    },
    {
      "cell_type": "code",
      "metadata": {
        "id": "My6smT9yg89c"
      },
      "source": [
        "def find_mvp(yr):\r\n",
        "  pname_totScore= data_frame[data_frame['year']==yr]\r\n",
        "  pname_totScore = pname_totScore[['firstname','lastname','tpa']]\r\n",
        "  pname_totScore = pname_totScore.sort_values(by=['tpa'], ascending=False)\r\n",
        "  return pname_totScore.iloc[0]"
      ],
      "execution_count": null,
      "outputs": []
    },
    {
      "cell_type": "code",
      "metadata": {
        "colab": {
          "base_uri": "https://localhost:8080/"
        },
        "id": "j05IBfBPjc8X",
        "outputId": "abc798f6-0edb-4ec4-ce31-d79e131ad198"
      },
      "source": [
        "for i in range(1946,2005):\r\n",
        "  print(\"MVP for year \", i, \" is:\" )\r\n",
        "  print(find_mvp(2003))\r\n",
        "  print()"
      ],
      "execution_count": null,
      "outputs": [
        {
          "output_type": "stream",
          "text": [
            "MVP for year  1946  is:\n",
            "firstname    Baron\n",
            "lastname     Davis\n",
            "tpa            582\n",
            "Name: 18076, dtype: object\n",
            "\n",
            "MVP for year  1947  is:\n",
            "firstname    Baron\n",
            "lastname     Davis\n",
            "tpa            582\n",
            "Name: 18076, dtype: object\n",
            "\n",
            "MVP for year  1948  is:\n",
            "firstname    Baron\n",
            "lastname     Davis\n",
            "tpa            582\n",
            "Name: 18076, dtype: object\n",
            "\n",
            "MVP for year  1949  is:\n",
            "firstname    Baron\n",
            "lastname     Davis\n",
            "tpa            582\n",
            "Name: 18076, dtype: object\n",
            "\n",
            "MVP for year  1950  is:\n",
            "firstname    Baron\n",
            "lastname     Davis\n",
            "tpa            582\n",
            "Name: 18076, dtype: object\n",
            "\n",
            "MVP for year  1951  is:\n",
            "firstname    Baron\n",
            "lastname     Davis\n",
            "tpa            582\n",
            "Name: 18076, dtype: object\n",
            "\n",
            "MVP for year  1952  is:\n",
            "firstname    Baron\n",
            "lastname     Davis\n",
            "tpa            582\n",
            "Name: 18076, dtype: object\n",
            "\n",
            "MVP for year  1953  is:\n",
            "firstname    Baron\n",
            "lastname     Davis\n",
            "tpa            582\n",
            "Name: 18076, dtype: object\n",
            "\n",
            "MVP for year  1954  is:\n",
            "firstname    Baron\n",
            "lastname     Davis\n",
            "tpa            582\n",
            "Name: 18076, dtype: object\n",
            "\n",
            "MVP for year  1955  is:\n",
            "firstname    Baron\n",
            "lastname     Davis\n",
            "tpa            582\n",
            "Name: 18076, dtype: object\n",
            "\n",
            "MVP for year  1956  is:\n",
            "firstname    Baron\n",
            "lastname     Davis\n",
            "tpa            582\n",
            "Name: 18076, dtype: object\n",
            "\n",
            "MVP for year  1957  is:\n",
            "firstname    Baron\n",
            "lastname     Davis\n",
            "tpa            582\n",
            "Name: 18076, dtype: object\n",
            "\n",
            "MVP for year  1958  is:\n",
            "firstname    Baron\n",
            "lastname     Davis\n",
            "tpa            582\n",
            "Name: 18076, dtype: object\n",
            "\n",
            "MVP for year  1959  is:\n",
            "firstname    Baron\n",
            "lastname     Davis\n",
            "tpa            582\n",
            "Name: 18076, dtype: object\n",
            "\n",
            "MVP for year  1960  is:\n",
            "firstname    Baron\n",
            "lastname     Davis\n",
            "tpa            582\n",
            "Name: 18076, dtype: object\n",
            "\n",
            "MVP for year  1961  is:\n",
            "firstname    Baron\n",
            "lastname     Davis\n",
            "tpa            582\n",
            "Name: 18076, dtype: object\n",
            "\n",
            "MVP for year  1962  is:\n",
            "firstname    Baron\n",
            "lastname     Davis\n",
            "tpa            582\n",
            "Name: 18076, dtype: object\n",
            "\n",
            "MVP for year  1963  is:\n",
            "firstname    Baron\n",
            "lastname     Davis\n",
            "tpa            582\n",
            "Name: 18076, dtype: object\n",
            "\n",
            "MVP for year  1964  is:\n",
            "firstname    Baron\n",
            "lastname     Davis\n",
            "tpa            582\n",
            "Name: 18076, dtype: object\n",
            "\n",
            "MVP for year  1965  is:\n",
            "firstname    Baron\n",
            "lastname     Davis\n",
            "tpa            582\n",
            "Name: 18076, dtype: object\n",
            "\n",
            "MVP for year  1966  is:\n",
            "firstname    Baron\n",
            "lastname     Davis\n",
            "tpa            582\n",
            "Name: 18076, dtype: object\n",
            "\n",
            "MVP for year  1967  is:\n",
            "firstname    Baron\n",
            "lastname     Davis\n",
            "tpa            582\n",
            "Name: 18076, dtype: object\n",
            "\n",
            "MVP for year  1968  is:\n",
            "firstname    Baron\n",
            "lastname     Davis\n",
            "tpa            582\n",
            "Name: 18076, dtype: object\n",
            "\n",
            "MVP for year  1969  is:\n",
            "firstname    Baron\n",
            "lastname     Davis\n",
            "tpa            582\n",
            "Name: 18076, dtype: object\n",
            "\n",
            "MVP for year  1970  is:\n",
            "firstname    Baron\n",
            "lastname     Davis\n",
            "tpa            582\n",
            "Name: 18076, dtype: object\n",
            "\n",
            "MVP for year  1971  is:\n",
            "firstname    Baron\n",
            "lastname     Davis\n",
            "tpa            582\n",
            "Name: 18076, dtype: object\n",
            "\n",
            "MVP for year  1972  is:\n",
            "firstname    Baron\n",
            "lastname     Davis\n",
            "tpa            582\n",
            "Name: 18076, dtype: object\n",
            "\n",
            "MVP for year  1973  is:\n",
            "firstname    Baron\n",
            "lastname     Davis\n",
            "tpa            582\n",
            "Name: 18076, dtype: object\n",
            "\n",
            "MVP for year  1974  is:\n",
            "firstname    Baron\n",
            "lastname     Davis\n",
            "tpa            582\n",
            "Name: 18076, dtype: object\n",
            "\n",
            "MVP for year  1975  is:\n",
            "firstname    Baron\n",
            "lastname     Davis\n",
            "tpa            582\n",
            "Name: 18076, dtype: object\n",
            "\n",
            "MVP for year  1976  is:\n",
            "firstname    Baron\n",
            "lastname     Davis\n",
            "tpa            582\n",
            "Name: 18076, dtype: object\n",
            "\n",
            "MVP for year  1977  is:\n",
            "firstname    Baron\n",
            "lastname     Davis\n",
            "tpa            582\n",
            "Name: 18076, dtype: object\n",
            "\n",
            "MVP for year  1978  is:\n",
            "firstname    Baron\n",
            "lastname     Davis\n",
            "tpa            582\n",
            "Name: 18076, dtype: object\n",
            "\n",
            "MVP for year  1979  is:\n",
            "firstname    Baron\n",
            "lastname     Davis\n",
            "tpa            582\n",
            "Name: 18076, dtype: object\n",
            "\n",
            "MVP for year  1980  is:\n",
            "firstname    Baron\n",
            "lastname     Davis\n",
            "tpa            582\n",
            "Name: 18076, dtype: object\n",
            "\n",
            "MVP for year  1981  is:\n",
            "firstname    Baron\n",
            "lastname     Davis\n",
            "tpa            582\n",
            "Name: 18076, dtype: object\n",
            "\n",
            "MVP for year  1982  is:\n",
            "firstname    Baron\n",
            "lastname     Davis\n",
            "tpa            582\n",
            "Name: 18076, dtype: object\n",
            "\n",
            "MVP for year  1983  is:\n",
            "firstname    Baron\n",
            "lastname     Davis\n",
            "tpa            582\n",
            "Name: 18076, dtype: object\n",
            "\n",
            "MVP for year  1984  is:\n",
            "firstname    Baron\n",
            "lastname     Davis\n",
            "tpa            582\n",
            "Name: 18076, dtype: object\n",
            "\n",
            "MVP for year  1985  is:\n",
            "firstname    Baron\n",
            "lastname     Davis\n",
            "tpa            582\n",
            "Name: 18076, dtype: object\n",
            "\n",
            "MVP for year  1986  is:\n",
            "firstname    Baron\n",
            "lastname     Davis\n",
            "tpa            582\n",
            "Name: 18076, dtype: object\n",
            "\n",
            "MVP for year  1987  is:\n",
            "firstname    Baron\n",
            "lastname     Davis\n",
            "tpa            582\n",
            "Name: 18076, dtype: object\n",
            "\n",
            "MVP for year  1988  is:\n",
            "firstname    Baron\n",
            "lastname     Davis\n",
            "tpa            582\n",
            "Name: 18076, dtype: object\n",
            "\n",
            "MVP for year  1989  is:\n",
            "firstname    Baron\n",
            "lastname     Davis\n",
            "tpa            582\n",
            "Name: 18076, dtype: object\n",
            "\n",
            "MVP for year  1990  is:\n",
            "firstname    Baron\n",
            "lastname     Davis\n",
            "tpa            582\n",
            "Name: 18076, dtype: object\n",
            "\n",
            "MVP for year  1991  is:\n",
            "firstname    Baron\n",
            "lastname     Davis\n",
            "tpa            582\n",
            "Name: 18076, dtype: object\n",
            "\n",
            "MVP for year  1992  is:\n",
            "firstname    Baron\n",
            "lastname     Davis\n",
            "tpa            582\n",
            "Name: 18076, dtype: object\n",
            "\n",
            "MVP for year  1993  is:\n",
            "firstname    Baron\n",
            "lastname     Davis\n",
            "tpa            582\n",
            "Name: 18076, dtype: object\n",
            "\n",
            "MVP for year  1994  is:\n",
            "firstname    Baron\n",
            "lastname     Davis\n",
            "tpa            582\n",
            "Name: 18076, dtype: object\n",
            "\n",
            "MVP for year  1995  is:\n",
            "firstname    Baron\n",
            "lastname     Davis\n",
            "tpa            582\n",
            "Name: 18076, dtype: object\n",
            "\n",
            "MVP for year  1996  is:\n",
            "firstname    Baron\n",
            "lastname     Davis\n",
            "tpa            582\n",
            "Name: 18076, dtype: object\n",
            "\n",
            "MVP for year  1997  is:\n",
            "firstname    Baron\n",
            "lastname     Davis\n",
            "tpa            582\n",
            "Name: 18076, dtype: object\n",
            "\n",
            "MVP for year  1998  is:\n",
            "firstname    Baron\n",
            "lastname     Davis\n",
            "tpa            582\n",
            "Name: 18076, dtype: object\n",
            "\n",
            "MVP for year  1999  is:\n",
            "firstname    Baron\n",
            "lastname     Davis\n",
            "tpa            582\n",
            "Name: 18076, dtype: object\n",
            "\n",
            "MVP for year  2000  is:\n",
            "firstname    Baron\n",
            "lastname     Davis\n",
            "tpa            582\n",
            "Name: 18076, dtype: object\n",
            "\n",
            "MVP for year  2001  is:\n",
            "firstname    Baron\n",
            "lastname     Davis\n",
            "tpa            582\n",
            "Name: 18076, dtype: object\n",
            "\n",
            "MVP for year  2002  is:\n",
            "firstname    Baron\n",
            "lastname     Davis\n",
            "tpa            582\n",
            "Name: 18076, dtype: object\n",
            "\n",
            "MVP for year  2003  is:\n",
            "firstname    Baron\n",
            "lastname     Davis\n",
            "tpa            582\n",
            "Name: 18076, dtype: object\n",
            "\n",
            "MVP for year  2004  is:\n",
            "firstname    Baron\n",
            "lastname     Davis\n",
            "tpa            582\n",
            "Name: 18076, dtype: object\n",
            "\n"
          ],
          "name": "stdout"
        }
      ]
    },
    {
      "cell_type": "markdown",
      "metadata": {
        "id": "WhoVaeaosvUx"
      },
      "source": [
        "**MVP CAREERWISE**"
      ]
    },
    {
      "cell_type": "code",
      "metadata": {
        "colab": {
          "base_uri": "https://localhost:8080/"
        },
        "id": "aEJWBzZElVlH",
        "outputId": "d6c7b432-18a1-4507-923e-9d68a86f2e77"
      },
      "source": [
        "top_player_career = data_frame2[['firstname','lastname','tpa']]\r\n",
        "top_player_career= top_player_career.sort_values(by=['tpa'],ascending=False)\r\n",
        "print(\"top MVP career wise is:\\n\",top_player_career.iloc[0])\r\n",
        "\r\n"
      ],
      "execution_count": null,
      "outputs": [
        {
          "output_type": "stream",
          "text": [
            "top MVP career wise is:\n",
            " firstname    Reggie\n",
            "lastname     Miller\n",
            "tpa            6486\n",
            "Name: 2275, dtype: object\n"
          ],
          "name": "stdout"
        }
      ]
    }
  ]
}